{
 "cells": [
  {
   "cell_type": "code",
   "execution_count": 1,
   "id": "44a1bb8a-82eb-4e9f-9ca8-aca147847e4b",
   "metadata": {},
   "outputs": [],
   "source": [
    "import pandas as pd\n",
    "import numpy as np\n"
   ]
  },
  {
   "cell_type": "code",
   "execution_count": 2,
   "id": "ee400280-a474-4a84-b945-6ba5a455227f",
   "metadata": {},
   "outputs": [],
   "source": [
    "\n",
    "df = pd.read_csv('jobOffers.csv', index_col=0, skipinitialspace=True)\n"
   ]
  },
  {
   "cell_type": "code",
   "execution_count": 3,
   "id": "0024a3f3-ae8a-4470-9f1a-e794b7ccf8b0",
   "metadata": {},
   "outputs": [],
   "source": [
    "#salary\n",
    "df = df.drop(df[df['salaryRange'] == 'neplacená stáž'].index)\n",
    "df['salLower'] = df['salaryRange'].str.split(\" - \").str[0].str.split(\"  \").str[0]\n",
    "df['salUpper'] = df['salaryRange'].str.split(\" - \").str[1].str.split(\"  \").str[0]\n",
    "\n",
    "df['salLower'] = df['salLower'].replace({'k': '*1e3'}, regex=True).map(pd.eval).astype(int)\n",
    "df['salUpper'].fillna(df['salLower'], inplace = True)\n",
    "df['salUpper'] = df['salUpper'].replace({'k': '*1e3'}, regex=True).map(pd.eval).astype(int)\n",
    "\n",
    "df['salAvg'] = (df['salUpper'] + df['salLower'])/2\n",
    "\n"
   ]
  },
  {
   "cell_type": "code",
   "execution_count": 4,
   "id": "b097f546-b89d-42a1-951f-cb9bed1f9e24",
   "metadata": {},
   "outputs": [],
   "source": [
    "#category and main programming language\n",
    "df['category+progLang'] = df['category+progLang'].str.replace(\"Kategorie:\",\"\").str.strip()\n",
    "df['category'] = df['category+progLang'].str.split(\",\").str[0]\n",
    "df['mainProgLang'] = df['category+progLang'].str.split(\",\").str[1]\n"
   ]
  },
  {
   "cell_type": "code",
   "execution_count": 5,
   "id": "1bcd1286-3b8c-4592-981f-f75a3c2aa1c1",
   "metadata": {
    "tags": []
   },
   "outputs": [],
   "source": [
    "#seniority\n",
    "df[\"seniority\"] = df[\"seniority\"].str.strip().replace({'Trainee, Junior': 'Junior', 'Trainee': 'Junior',\n",
    "                                                          'Senior, Expert':'Senior',\n",
    "                                                          'Expert':'Senior', 'Mid, Senior':'Mid Advanced'})\n"
   ]
  },
  {
   "cell_type": "code",
   "execution_count": 6,
   "id": "69839913",
   "metadata": {},
   "outputs": [],
   "source": [
    "#Work language\n",
    "df[\"workLanguage\"]=df[\"workLanguage\"].str.replace(\"Work language:\",\"\")\n"
   ]
  },
  {
   "cell_type": "code",
   "execution_count": 7,
   "id": "b0a9fe1f",
   "metadata": {},
   "outputs": [
    {
     "name": "stdout",
     "output_type": "stream",
     "text": [
      "mainProgLangAdj\n",
      "other          201\n",
      " java          121\n",
      " python         83\n",
      " javascript     74\n",
      " net            59\n",
      " react          57\n",
      " php            48\n",
      " android        19\n",
      " node           19\n",
      "dtype: int64\n"
     ]
    },
    {
     "name": "stderr",
     "output_type": "stream",
     "text": [
      "<ipython-input-7-5ea043900ff0>:2: FutureWarning: The default value of regex will change from True to False in a future version.\n",
      "  df.loc[:,\"mainProgLang\"] = df.loc[:,\"mainProgLang\"].str.replace('\\d+', '')\n",
      "<ipython-input-7-5ea043900ff0>:3: FutureWarning: The default value of regex will change from True to False in a future version. In addition, single character regular expressions will*not* be treated as literal strings when regex=True.\n",
      "  df.loc[:,\"mainProgLang\"] = df.loc[:,\"mainProgLang\"].str.replace('.', '')\n"
     ]
    }
   ],
   "source": [
    "#getting rid of the numbers, dots and converting to lowercase to standardise prog langugage\n",
    "df.loc[:,\"mainProgLang\"] = df.loc[:,\"mainProgLang\"].str.replace('\\d+', '')\n",
    "df.loc[:,\"mainProgLang\"] = df.loc[:,\"mainProgLang\"].str.replace('.', '')\n",
    "df[\"mainProgLang\"]=df[\"mainProgLang\"].str.lower()\n",
    "#converting less demanded programming languages to 'other'\n",
    "mask = df['mainProgLang'].map(df['mainProgLang'].value_counts())<16\n",
    "df['mainProgLangAdj']=df['mainProgLang'].mask(mask,'other')\n",
    "counts = df.groupby(['mainProgLangAdj']).size().sort_values(ascending=False)\n",
    "print(counts)"
   ]
  },
  {
   "cell_type": "code",
   "execution_count": 8,
   "id": "d0dcb892",
   "metadata": {},
   "outputs": [],
   "source": [
    "#adjusting remote with location -- Where is Na dálku in remote => location: Remote, \n",
    "\n",
    "df.loc[df.remote != \"Na dálku \",\"remote\"]= \"Hybrid or no remote\"\n",
    "df['remoteAdj'] = ['Remote' if x == 'Na dálku ' else 'Hybrid or no remote' for x in df['remote']]\n",
    "\n"
   ]
  },
  {
   "cell_type": "code",
   "execution_count": 9,
   "id": "22861a2b-ade9-4be6-85b3-b58866b5efdb",
   "metadata": {},
   "outputs": [],
   "source": [
    "#Work language\n",
    "df[\"workLanguage\"]=df[\"workLanguage\"].str.replace(\"Work language:\",\"\")\n",
    "df['language'] = df['workLanguage'].str.split(',')\n",
    "\n",
    "df.groupby(['workLanguage']).size()\n",
    "langList = ['angličtina','česky']\n",
    "for lang in langList:\n",
    "    df[lang] = df['workLanguage'].str.contains(lang)\n",
    "\n",
    "#['angličtina', 'česky' ]"
   ]
  },
  {
   "cell_type": "code",
   "execution_count": 10,
   "id": "9c4ea936-9806-491c-90a1-85c7847767cf",
   "metadata": {},
   "outputs": [],
   "source": [
    "#Because we are interested only on the job offers relevant for the Czech people, we are removing all jobs where neither Czech nor English is used as a speaking language.\n",
    "df = df[(df['angličtina'] == True)| (df['česky'] == True)]"
   ]
  },
  {
   "cell_type": "code",
   "execution_count": 11,
   "id": "7264b1bc-289b-4241-80a5-2a7ae78e0475",
   "metadata": {},
   "outputs": [
    {
     "data": {
      "text/plain": [
       "Bonus\n",
       "+1%           1\n",
       "+10%         24\n",
       "+12%          1\n",
       "+13%          1\n",
       "+15%          5\n",
       "+2%           1\n",
       "+20%          2\n",
       "+30%          2\n",
       "+5%           5\n",
       "+50%          2\n",
       "+7%           1\n",
       "10000 PLN     1\n",
       "20k CZK       1\n",
       "dtype: int64"
      ]
     },
     "execution_count": 11,
     "metadata": {},
     "output_type": "execute_result"
    }
   ],
   "source": [
    "#do we keep bonus? (and jobTitles and company?)\n",
    "df.groupby(\"Bonus\").size()\n",
    "\n",
    "#base on this we decide to not include bonus in the final dataset"
   ]
  },
  {
   "cell_type": "code",
   "execution_count": 12,
   "id": "d5423847-439e-4a48-8e54-f7b973900e48",
   "metadata": {},
   "outputs": [
    {
     "name": "stdout",
     "output_type": "stream",
     "text": [
      "<class 'pandas.core.frame.DataFrame'>\n",
      "Int64Index: 658 entries, 0 to 716\n",
      "Data columns (total 19 columns):\n",
      " #   Column             Non-Null Count  Dtype  \n",
      "---  ------             --------------  -----  \n",
      " 0   jobTitles          658 non-null    object \n",
      " 1   company            658 non-null    object \n",
      " 2   salaryRange        658 non-null    object \n",
      " 3   Bonus              47 non-null     object \n",
      " 4   category+progLang  658 non-null    object \n",
      " 5   seniority          658 non-null    object \n",
      " 6   workLanguage       658 non-null    object \n",
      " 7   location           548 non-null    object \n",
      " 8   remote             658 non-null    object \n",
      " 9   salLower           658 non-null    int64  \n",
      " 10  salUpper           658 non-null    int64  \n",
      " 11  salAvg             658 non-null    float64\n",
      " 12  category           658 non-null    object \n",
      " 13  mainProgLang       625 non-null    object \n",
      " 14  mainProgLangAdj    625 non-null    object \n",
      " 15  remoteAdj          658 non-null    object \n",
      " 16  language           658 non-null    object \n",
      " 17  angličtina         658 non-null    bool   \n",
      " 18  česky              658 non-null    bool   \n",
      "dtypes: bool(2), float64(1), int64(2), object(14)\n",
      "memory usage: 93.8+ KB\n"
     ]
    }
   ],
   "source": [
    "#controlling for missing values\n",
    "df.info()"
   ]
  },
  {
   "cell_type": "code",
   "execution_count": 13,
   "id": "2393a11a",
   "metadata": {},
   "outputs": [
    {
     "data": {
      "text/html": [
       "<div>\n",
       "<style scoped>\n",
       "    .dataframe tbody tr th:only-of-type {\n",
       "        vertical-align: middle;\n",
       "    }\n",
       "\n",
       "    .dataframe tbody tr th {\n",
       "        vertical-align: top;\n",
       "    }\n",
       "\n",
       "    .dataframe thead th {\n",
       "        text-align: right;\n",
       "    }\n",
       "</style>\n",
       "<table border=\"1\" class=\"dataframe\">\n",
       "  <thead>\n",
       "    <tr style=\"text-align: right;\">\n",
       "      <th></th>\n",
       "      <th>jobTitles</th>\n",
       "      <th>seniority</th>\n",
       "      <th>workLanguage</th>\n",
       "      <th>angličtina</th>\n",
       "      <th>česky</th>\n",
       "      <th>location</th>\n",
       "      <th>remoteAdj</th>\n",
       "      <th>salAvg</th>\n",
       "      <th>category</th>\n",
       "      <th>mainProgLangAdj</th>\n",
       "    </tr>\n",
       "  </thead>\n",
       "  <tbody>\n",
       "    <tr>\n",
       "      <th>0</th>\n",
       "      <td>Java Software Developer</td>\n",
       "      <td>Junior</td>\n",
       "      <td>angličtina</td>\n",
       "      <td>True</td>\n",
       "      <td>False</td>\n",
       "      <td>NaN</td>\n",
       "      <td>Remote</td>\n",
       "      <td>29050.0</td>\n",
       "      <td>Backend</td>\n",
       "      <td>java</td>\n",
       "    </tr>\n",
       "    <tr>\n",
       "      <th>1</th>\n",
       "      <td>C++ Developer</td>\n",
       "      <td>Mid Advanced</td>\n",
       "      <td>česky</td>\n",
       "      <td>False</td>\n",
       "      <td>True</td>\n",
       "      <td>Prague, Altajská 1568/4 (Po pandemi)• Prague,...</td>\n",
       "      <td>Hybrid or no remote</td>\n",
       "      <td>105000.0</td>\n",
       "      <td>Backend</td>\n",
       "      <td>other</td>\n",
       "    </tr>\n",
       "    <tr>\n",
       "      <th>2</th>\n",
       "      <td>C# Developer</td>\n",
       "      <td>Mid Advanced</td>\n",
       "      <td>česky</td>\n",
       "      <td>False</td>\n",
       "      <td>True</td>\n",
       "      <td>Prague, Altajská 1568/4 (Po pandemi)• Prague,...</td>\n",
       "      <td>Hybrid or no remote</td>\n",
       "      <td>105000.0</td>\n",
       "      <td>Backend</td>\n",
       "      <td>other</td>\n",
       "    </tr>\n",
       "    <tr>\n",
       "      <th>3</th>\n",
       "      <td>Java developer u Medvědů</td>\n",
       "      <td>Mid Advanced</td>\n",
       "      <td>česky</td>\n",
       "      <td>False</td>\n",
       "      <td>True</td>\n",
       "      <td>Praha, Vítkova 241/10 • Praha, Vítkova 241/10</td>\n",
       "      <td>Hybrid or no remote</td>\n",
       "      <td>90000.0</td>\n",
       "      <td>Backend</td>\n",
       "      <td>java</td>\n",
       "    </tr>\n",
       "    <tr>\n",
       "      <th>4</th>\n",
       "      <td>Senior Backend Developer</td>\n",
       "      <td>Mid Advanced</td>\n",
       "      <td>česky, angličtina</td>\n",
       "      <td>True</td>\n",
       "      <td>True</td>\n",
       "      <td>Praha, Rohanské nábř. 19 • Remote• Praha, Roh...</td>\n",
       "      <td>Remote</td>\n",
       "      <td>80000.0</td>\n",
       "      <td>Backend</td>\n",
       "      <td>node</td>\n",
       "    </tr>\n",
       "  </tbody>\n",
       "</table>\n",
       "</div>"
      ],
      "text/plain": [
       "                   jobTitles     seniority       workLanguage  angličtina  \\\n",
       "0   Java Software Developer         Junior         angličtina        True   \n",
       "1             C++ Developer   Mid Advanced              česky       False   \n",
       "2              C# Developer   Mid Advanced              česky       False   \n",
       "3  Java developer u Medvědů   Mid Advanced              česky       False   \n",
       "4  Senior Backend Developer   Mid Advanced  česky, angličtina        True   \n",
       "\n",
       "   česky                                           location  \\\n",
       "0  False                                                NaN   \n",
       "1   True   Prague, Altajská 1568/4 (Po pandemi)• Prague,...   \n",
       "2   True   Prague, Altajská 1568/4 (Po pandemi)• Prague,...   \n",
       "3   True     Praha, Vítkova 241/10 • Praha, Vítkova 241/10    \n",
       "4   True   Praha, Rohanské nábř. 19 • Remote• Praha, Roh...   \n",
       "\n",
       "             remoteAdj    salAvg category mainProgLangAdj  \n",
       "0               Remote   29050.0  Backend            java  \n",
       "1  Hybrid or no remote  105000.0  Backend           other  \n",
       "2  Hybrid or no remote  105000.0  Backend           other  \n",
       "3  Hybrid or no remote   90000.0  Backend            java  \n",
       "4               Remote   80000.0  Backend            node  "
      ]
     },
     "execution_count": 13,
     "metadata": {},
     "output_type": "execute_result"
    }
   ],
   "source": [
    "#subseting dataset\n",
    "df_final=df[['jobTitles','seniority', 'workLanguage','angličtina', 'česky','location','remoteAdj','salAvg', 'category',\n",
    "       'mainProgLangAdj']]\n",
    "df_final.head()\n"
   ]
  },
  {
   "cell_type": "code",
   "execution_count": 14,
   "id": "11a38abe",
   "metadata": {},
   "outputs": [],
   "source": [
    "#making sure there are no whitespaces left\n",
    "df_final.columns = df_final.columns.str.strip()\n",
    "\n"
   ]
  },
  {
   "cell_type": "code",
   "execution_count": 15,
   "id": "fdd43f1a",
   "metadata": {},
   "outputs": [],
   "source": [
    "#to CSV\n",
    "df_final.to_csv(\"cleaned_data.csv\")"
   ]
  }
 ],
 "metadata": {
  "kernelspec": {
   "display_name": "Python 3",
   "language": "python",
   "name": "python3"
  },
  "language_info": {
   "codemirror_mode": {
    "name": "ipython",
    "version": 3
   },
   "file_extension": ".py",
   "mimetype": "text/x-python",
   "name": "python",
   "nbconvert_exporter": "python",
   "pygments_lexer": "ipython3",
   "version": "3.8.8"
  }
 },
 "nbformat": 4,
 "nbformat_minor": 5
}
